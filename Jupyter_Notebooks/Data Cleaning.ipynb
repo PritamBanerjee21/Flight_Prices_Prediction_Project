{
 "cells": [
  {
   "cell_type": "markdown",
   "id": "f772f93a-2838-40a4-b30b-76363691e9c9",
   "metadata": {},
   "source": [
    "## Importing Libraries"
   ]
  },
  {
   "cell_type": "code",
   "execution_count": 1,
   "id": "f0b17689-f4c1-435e-8622-78ff8dc91efc",
   "metadata": {},
   "outputs": [],
   "source": [
    "import os\n",
    "import pandas as pd\n",
    "import numpy as np\n",
    "from sklearn.model_selection import train_test_split\n",
    "import warnings\n",
    "warnings.filterwarnings('ignore')"
   ]
  },
  {
   "cell_type": "markdown",
   "id": "1f9de79a-ea2d-4508-b946-5b2ad3d33134",
   "metadata": {},
   "source": [
    "## Reading the Data"
   ]
  },
  {
   "cell_type": "code",
   "execution_count": 2,
   "id": "c20b5b39-8795-4e51-a99c-2385aca2a22a",
   "metadata": {},
   "outputs": [],
   "source": [
    "Project_Dir = r\"D:\\FLIGHT_PRICE_PREDICTION\"\n",
    "Data_Dir = \"DATA\""
   ]
  },
  {
   "cell_type": "code",
   "execution_count": 3,
   "id": "4f7b01c4-3fcb-4ac8-9277-07f5d1c82ba9",
   "metadata": {},
   "outputs": [
    {
     "data": {
      "text/html": [
       "<div>\n",
       "<style scoped>\n",
       "    .dataframe tbody tr th:only-of-type {\n",
       "        vertical-align: middle;\n",
       "    }\n",
       "\n",
       "    .dataframe tbody tr th {\n",
       "        vertical-align: top;\n",
       "    }\n",
       "\n",
       "    .dataframe thead th {\n",
       "        text-align: right;\n",
       "    }\n",
       "</style>\n",
       "<table border=\"1\" class=\"dataframe\">\n",
       "  <thead>\n",
       "    <tr style=\"text-align: right;\">\n",
       "      <th></th>\n",
       "      <th>Airline</th>\n",
       "      <th>Date_of_Journey</th>\n",
       "      <th>Source</th>\n",
       "      <th>Destination</th>\n",
       "      <th>Route</th>\n",
       "      <th>Dep_Time</th>\n",
       "      <th>Arrival_Time</th>\n",
       "      <th>Duration</th>\n",
       "      <th>Total_Stops</th>\n",
       "      <th>Additional_Info</th>\n",
       "      <th>Price</th>\n",
       "    </tr>\n",
       "  </thead>\n",
       "  <tbody>\n",
       "    <tr>\n",
       "      <th>9145</th>\n",
       "      <td>IndiGo</td>\n",
       "      <td>18/05/2019</td>\n",
       "      <td>Kolkata</td>\n",
       "      <td>Banglore</td>\n",
       "      <td>CCU → BLR</td>\n",
       "      <td>20:20</td>\n",
       "      <td>22:55</td>\n",
       "      <td>2h 35m</td>\n",
       "      <td>non-stop</td>\n",
       "      <td>No info</td>\n",
       "      <td>4804</td>\n",
       "    </tr>\n",
       "    <tr>\n",
       "      <th>3143</th>\n",
       "      <td>IndiGo</td>\n",
       "      <td>6/06/2019</td>\n",
       "      <td>Banglore</td>\n",
       "      <td>Delhi</td>\n",
       "      <td>BLR → DEL</td>\n",
       "      <td>18:25</td>\n",
       "      <td>21:20</td>\n",
       "      <td>2h 55m</td>\n",
       "      <td>non-stop</td>\n",
       "      <td>No info</td>\n",
       "      <td>4823</td>\n",
       "    </tr>\n",
       "    <tr>\n",
       "      <th>8048</th>\n",
       "      <td>IndiGo</td>\n",
       "      <td>27/05/2019</td>\n",
       "      <td>Kolkata</td>\n",
       "      <td>Banglore</td>\n",
       "      <td>CCU → BLR</td>\n",
       "      <td>09:35</td>\n",
       "      <td>12:20</td>\n",
       "      <td>2h 45m</td>\n",
       "      <td>non-stop</td>\n",
       "      <td>No info</td>\n",
       "      <td>4804</td>\n",
       "    </tr>\n",
       "    <tr>\n",
       "      <th>3275</th>\n",
       "      <td>IndiGo</td>\n",
       "      <td>12/06/2019</td>\n",
       "      <td>Delhi</td>\n",
       "      <td>Cochin</td>\n",
       "      <td>DEL → MAA → COK</td>\n",
       "      <td>02:00</td>\n",
       "      <td>07:25</td>\n",
       "      <td>5h 25m</td>\n",
       "      <td>1 stop</td>\n",
       "      <td>No info</td>\n",
       "      <td>5636</td>\n",
       "    </tr>\n",
       "    <tr>\n",
       "      <th>1600</th>\n",
       "      <td>Multiple carriers</td>\n",
       "      <td>21/05/2019</td>\n",
       "      <td>Delhi</td>\n",
       "      <td>Cochin</td>\n",
       "      <td>DEL → BOM → COK</td>\n",
       "      <td>17:00</td>\n",
       "      <td>01:30 22 May</td>\n",
       "      <td>8h 30m</td>\n",
       "      <td>1 stop</td>\n",
       "      <td>No info</td>\n",
       "      <td>7888</td>\n",
       "    </tr>\n",
       "  </tbody>\n",
       "</table>\n",
       "</div>"
      ],
      "text/plain": [
       "                Airline Date_of_Journey    Source Destination  \\\n",
       "9145             IndiGo      18/05/2019   Kolkata    Banglore   \n",
       "3143             IndiGo       6/06/2019  Banglore       Delhi   \n",
       "8048             IndiGo      27/05/2019   Kolkata    Banglore   \n",
       "3275             IndiGo      12/06/2019     Delhi      Cochin   \n",
       "1600  Multiple carriers      21/05/2019     Delhi      Cochin   \n",
       "\n",
       "                Route Dep_Time  Arrival_Time Duration Total_Stops  \\\n",
       "9145        CCU → BLR    20:20         22:55   2h 35m    non-stop   \n",
       "3143        BLR → DEL    18:25         21:20   2h 55m    non-stop   \n",
       "8048        CCU → BLR    09:35         12:20   2h 45m    non-stop   \n",
       "3275  DEL → MAA → COK    02:00         07:25   5h 25m      1 stop   \n",
       "1600  DEL → BOM → COK    17:00  01:30 22 May   8h 30m      1 stop   \n",
       "\n",
       "     Additional_Info  Price  \n",
       "9145         No info   4804  \n",
       "3143         No info   4823  \n",
       "8048         No info   4804  \n",
       "3275         No info   5636  \n",
       "1600         No info   7888  "
      ]
     },
     "execution_count": 3,
     "metadata": {},
     "output_type": "execute_result"
    }
   ],
   "source": [
    "#Fucntion to get data\n",
    "def get_data(name):\n",
    "    filename = f\"{name}.csv\"\n",
    "    filepath = os.path.join(Project_Dir,Data_Dir,filename)\n",
    "    return pd.read_csv(filepath)\n",
    "flight = get_data(\"flight_price\")\n",
    "flight.sample(5)"
   ]
  },
  {
   "cell_type": "code",
   "execution_count": 4,
   "id": "2341f58d-9daa-4026-b6fd-79eab5d4147d",
   "metadata": {},
   "outputs": [
    {
     "name": "stdout",
     "output_type": "stream",
     "text": [
      "<class 'pandas.core.frame.DataFrame'>\n",
      "RangeIndex: 10683 entries, 0 to 10682\n",
      "Data columns (total 11 columns):\n",
      " #   Column           Non-Null Count  Dtype \n",
      "---  ------           --------------  ----- \n",
      " 0   Airline          10683 non-null  object\n",
      " 1   Date_of_Journey  10683 non-null  object\n",
      " 2   Source           10683 non-null  object\n",
      " 3   Destination      10683 non-null  object\n",
      " 4   Route            10682 non-null  object\n",
      " 5   Dep_Time         10683 non-null  object\n",
      " 6   Arrival_Time     10683 non-null  object\n",
      " 7   Duration         10683 non-null  object\n",
      " 8   Total_Stops      10682 non-null  object\n",
      " 9   Additional_Info  10683 non-null  object\n",
      " 10  Price            10683 non-null  int64 \n",
      "dtypes: int64(1), object(10)\n",
      "memory usage: 918.2+ KB\n"
     ]
    }
   ],
   "source": [
    "#Viewing information of the dataset\n",
    "flight.info()"
   ]
  },
  {
   "cell_type": "markdown",
   "id": "b85b5096-83f2-4a76-8bf7-d6a752d18674",
   "metadata": {},
   "source": [
    "## 3. Preliminary Analysis"
   ]
  },
  {
   "cell_type": "markdown",
   "id": "259a6601-0a87-4574-a3ce-9e39076ed06a",
   "metadata": {},
   "source": [
    "### 3.1 Checking Datatypes"
   ]
  },
  {
   "cell_type": "code",
   "execution_count": 5,
   "id": "59c3ed3a-7808-4835-87d0-9611f5715ffc",
   "metadata": {},
   "outputs": [
    {
     "data": {
      "text/plain": [
       "Airline            object\n",
       "Date_of_Journey    object\n",
       "Source             object\n",
       "Destination        object\n",
       "Route              object\n",
       "Dep_Time           object\n",
       "Arrival_Time       object\n",
       "Duration           object\n",
       "Total_Stops        object\n",
       "Additional_Info    object\n",
       "Price               int64\n",
       "dtype: object"
      ]
     },
     "execution_count": 5,
     "metadata": {},
     "output_type": "execute_result"
    }
   ],
   "source": [
    "flight.dtypes"
   ]
  },
  {
   "cell_type": "markdown",
   "id": "b99d3a94-e250-47bc-b5fa-9da2bac061f0",
   "metadata": {},
   "source": [
    "### 3.2 Checking Duplicates"
   ]
  },
  {
   "cell_type": "code",
   "execution_count": 6,
   "id": "edd34024-cbb8-4e0a-8b50-19d01a94137b",
   "metadata": {},
   "outputs": [
    {
     "data": {
      "text/plain": [
       "np.int64(220)"
      ]
     },
     "execution_count": 6,
     "metadata": {},
     "output_type": "execute_result"
    }
   ],
   "source": [
    "flight.duplicated().sum()"
   ]
  },
  {
   "attachments": {},
   "cell_type": "markdown",
   "id": "4efe6ec7-046e-4e9e-9e5f-0b68b67fdaaa",
   "metadata": {},
   "source": [
    "### 3.3 Observations\n",
    "\n",
    "- Data type of \"Date_of_Journey\", \"Dep_Time\", \"Arrival_Time\" is not coreect. It should be datetime\n",
    "- \"Duration\" and \"Total_Stops\" should be of numeric datatype\n",
    "- There are 220 duplicate values which should be removed\n",
    "\n"
   ]
  },
  {
   "cell_type": "markdown",
   "id": "a047831c-0104-46f9-8d0c-68e3993ea294",
   "metadata": {},
   "source": [
    "## 4. Detailed Analysis"
   ]
  },
  {
   "cell_type": "markdown",
   "id": "7fd622a8-0497-4227-93b1-189bba731049",
   "metadata": {},
   "source": [
    "### 4.1 Getting categorical features"
   ]
  },
  {
   "cell_type": "code",
   "execution_count": 7,
   "id": "0a3683c5-3437-47b6-bc61-96d90c0e6634",
   "metadata": {},
   "outputs": [
    {
     "data": {
      "text/plain": [
       "Index(['Airline', 'Date_of_Journey', 'Source', 'Destination', 'Route',\n",
       "       'Dep_Time', 'Arrival_Time', 'Duration', 'Total_Stops',\n",
       "       'Additional_Info'],\n",
       "      dtype='object')"
      ]
     },
     "execution_count": 7,
     "metadata": {},
     "output_type": "execute_result"
    }
   ],
   "source": [
    "flight.select_dtypes(include = \"O\").columns"
   ]
  },
  {
   "cell_type": "markdown",
   "id": "d4401e60-d131-4ded-9370-43e9ffdc1c80",
   "metadata": {},
   "source": [
    "### 4.2 Airline"
   ]
  },
  {
   "cell_type": "code",
   "execution_count": 8,
   "id": "98ac6633-dff7-4e66-9c0f-0aa609319017",
   "metadata": {},
   "outputs": [
    {
     "data": {
      "text/plain": [
       "array(['IndiGo', 'Air India', 'Jet Airways', 'SpiceJet',\n",
       "       'Multiple carriers', 'GoAir', 'Vistara', 'Air Asia',\n",
       "       'Vistara Premium economy', 'Jet Airways Business',\n",
       "       'Multiple carriers Premium economy', 'Trujet'], dtype=object)"
      ]
     },
     "execution_count": 8,
     "metadata": {},
     "output_type": "execute_result"
    }
   ],
   "source": [
    "flight.Airline.unique()"
   ]
  },
  {
   "cell_type": "code",
   "execution_count": 9,
   "id": "ecbd39db-328d-4119-9873-abb5ccf38ffb",
   "metadata": {},
   "outputs": [
    {
     "data": {
      "text/plain": [
       "array(['Indigo', 'Air India', 'Jet Airways', 'Spicejet',\n",
       "       'Multiple Carriers', 'Goair', 'Vistara', 'Air Asia', 'Trujet'],\n",
       "      dtype=object)"
      ]
     },
     "execution_count": 9,
     "metadata": {},
     "output_type": "execute_result"
    }
   ],
   "source": [
    "# Correcting the values\n",
    "(\n",
    "    flight\n",
    "    .Airline\n",
    "    .replace(\"Vistara Premium economy\",\"Vistara\")\n",
    "    .replace(\"Multiple carriers Premium economy\",\"Multiple carriers\")\n",
    "    .replace(\"Jet Airways Business\",\"Jet Airways\")\n",
    "    .str.title()\n",
    "    .unique()\n",
    ")"
   ]
  },
  {
   "cell_type": "markdown",
   "id": "6fd4e077-d263-4ec7-b830-e07c34204afd",
   "metadata": {},
   "source": [
    "### 4.3 Date of Journey"
   ]
  },
  {
   "cell_type": "code",
   "execution_count": 10,
   "id": "92142569-12ba-4969-80c6-fc2b77b66b0c",
   "metadata": {},
   "outputs": [
    {
     "data": {
      "text/plain": [
       "array(['24/03/2019', '1/05/2019', '9/06/2019', '12/05/2019', '01/03/2019',\n",
       "       '24/06/2019', '12/03/2019', '27/05/2019', '1/06/2019',\n",
       "       '18/04/2019', '9/05/2019', '24/04/2019', '3/03/2019', '15/04/2019',\n",
       "       '12/06/2019', '6/03/2019', '21/03/2019', '3/04/2019', '6/05/2019',\n",
       "       '15/05/2019', '18/06/2019', '15/06/2019', '6/04/2019',\n",
       "       '18/05/2019', '27/06/2019', '21/05/2019', '06/03/2019',\n",
       "       '3/06/2019', '15/03/2019', '3/05/2019', '9/03/2019', '6/06/2019',\n",
       "       '24/05/2019', '09/03/2019', '1/04/2019', '21/04/2019',\n",
       "       '21/06/2019', '27/03/2019', '18/03/2019', '12/04/2019',\n",
       "       '9/04/2019', '1/03/2019', '03/03/2019', '27/04/2019'], dtype=object)"
      ]
     },
     "execution_count": 10,
     "metadata": {},
     "output_type": "execute_result"
    }
   ],
   "source": [
    "flight.Date_of_Journey.unique()"
   ]
  },
  {
   "cell_type": "code",
   "execution_count": 11,
   "id": "364ffbdd-d42b-44e7-a204-acedb883461d",
   "metadata": {},
   "outputs": [
    {
     "data": {
      "text/plain": [
       "0       2019-03-24\n",
       "1       2019-05-01\n",
       "2       2019-06-09\n",
       "3       2019-05-12\n",
       "4       2019-03-01\n",
       "           ...    \n",
       "10678   2019-04-09\n",
       "10679   2019-04-27\n",
       "10680   2019-04-27\n",
       "10681   2019-03-01\n",
       "10682   2019-05-09\n",
       "Name: Date_of_Journey, Length: 10683, dtype: datetime64[ns]"
      ]
     },
     "execution_count": 11,
     "metadata": {},
     "output_type": "execute_result"
    }
   ],
   "source": [
    "# Correcting the datatype\n",
    "pd.to_datetime(flight.Date_of_Journey,dayfirst = True)"
   ]
  },
  {
   "cell_type": "markdown",
   "id": "4ed5ca3e-ea49-4dcb-8f0a-a49d8a49ccbb",
   "metadata": {},
   "source": [
    "### 4.4 Source"
   ]
  },
  {
   "cell_type": "code",
   "execution_count": 12,
   "id": "5550274e-fec0-4568-87ba-343f4b5a70ae",
   "metadata": {},
   "outputs": [
    {
     "data": {
      "text/plain": [
       "array(['Banglore', 'Kolkata', 'Delhi', 'Chennai', 'Mumbai'], dtype=object)"
      ]
     },
     "execution_count": 12,
     "metadata": {},
     "output_type": "execute_result"
    }
   ],
   "source": [
    "flight.Source.unique()"
   ]
  },
  {
   "cell_type": "markdown",
   "id": "ab6c3553-b162-4dc8-bb95-fa913bff92e5",
   "metadata": {},
   "source": [
    "### 4.5 Destination"
   ]
  },
  {
   "cell_type": "code",
   "execution_count": 13,
   "id": "7ea36ab1-d6ed-4bd5-b451-b45ed223ee7d",
   "metadata": {},
   "outputs": [
    {
     "data": {
      "text/plain": [
       "array(['New Delhi', 'Banglore', 'Cochin', 'Kolkata', 'Delhi', 'Hyderabad'],\n",
       "      dtype=object)"
      ]
     },
     "execution_count": 13,
     "metadata": {},
     "output_type": "execute_result"
    }
   ],
   "source": [
    "flight.Destination.unique()"
   ]
  },
  {
   "cell_type": "markdown",
   "id": "ac5bbcb6-344e-408b-90aa-183bbe3e5079",
   "metadata": {},
   "source": [
    "### 4.6 Dep_Time"
   ]
  },
  {
   "cell_type": "code",
   "execution_count": 14,
   "id": "baee05af-8182-41ae-832a-b4d1abbf664c",
   "metadata": {},
   "outputs": [
    {
     "data": {
      "text/plain": [
       "0        22:20\n",
       "1        05:50\n",
       "2        09:25\n",
       "3        18:05\n",
       "4        16:50\n",
       "         ...  \n",
       "10678    19:55\n",
       "10679    20:45\n",
       "10680    08:20\n",
       "10681    11:30\n",
       "10682    10:55\n",
       "Name: Dep_Time, Length: 10683, dtype: object"
      ]
     },
     "execution_count": 14,
     "metadata": {},
     "output_type": "execute_result"
    }
   ],
   "source": [
    "flight.Dep_Time"
   ]
  },
  {
   "cell_type": "code",
   "execution_count": 15,
   "id": "b976d48c-b3e4-4f7a-81dd-f4848d43e2db",
   "metadata": {},
   "outputs": [
    {
     "data": {
      "text/plain": [
       "0        22:20:00\n",
       "1        05:50:00\n",
       "2        09:25:00\n",
       "3        18:05:00\n",
       "4        16:50:00\n",
       "           ...   \n",
       "10678    19:55:00\n",
       "10679    20:45:00\n",
       "10680    08:20:00\n",
       "10681    11:30:00\n",
       "10682    10:55:00\n",
       "Name: Dep_Time, Length: 10683, dtype: object"
      ]
     },
     "execution_count": 15,
     "metadata": {},
     "output_type": "execute_result"
    }
   ],
   "source": [
    "pd.to_datetime(flight.Dep_Time,dayfirst=True).dt.time"
   ]
  },
  {
   "cell_type": "code",
   "execution_count": 16,
   "id": "796553a1-6a02-4a90-92d0-d3f1cb206a4b",
   "metadata": {},
   "outputs": [
    {
     "data": {
      "text/plain": [
       "Dep_Time\n",
       "False    10683\n",
       "Name: count, dtype: int64"
      ]
     },
     "execution_count": 16,
     "metadata": {},
     "output_type": "execute_result"
    }
   ],
   "source": [
    "# Viewing if there are any other value\n",
    "flight.Dep_Time.str.contains(\"[^0-9:]\").value_counts()"
   ]
  },
  {
   "cell_type": "markdown",
   "id": "51482ea3-764a-4ffd-9ef4-49c5261ceca2",
   "metadata": {},
   "source": [
    "### 4.7 Arrival_Time"
   ]
  },
  {
   "cell_type": "code",
   "execution_count": 17,
   "id": "fd0450e1-3f52-48a2-978d-9796e0d3e1c0",
   "metadata": {},
   "outputs": [
    {
     "data": {
      "text/plain": [
       "0        01:10 22 Mar\n",
       "1               13:15\n",
       "2        04:25 10 Jun\n",
       "3               23:30\n",
       "4               21:35\n",
       "             ...     \n",
       "10678           22:25\n",
       "10679           23:20\n",
       "10680           11:20\n",
       "10681           14:10\n",
       "10682           19:15\n",
       "Name: Arrival_Time, Length: 10683, dtype: object"
      ]
     },
     "execution_count": 17,
     "metadata": {},
     "output_type": "execute_result"
    }
   ],
   "source": [
    "flight.Arrival_Time"
   ]
  },
  {
   "cell_type": "code",
   "execution_count": 18,
   "id": "5b6041a1-b93e-4d76-84f6-c314b9309a5d",
   "metadata": {},
   "outputs": [
    {
     "data": {
      "text/plain": [
       "0        01:10:00\n",
       "1        13:15:00\n",
       "2        04:25:00\n",
       "3        23:30:00\n",
       "4        21:35:00\n",
       "           ...   \n",
       "10678    22:25:00\n",
       "10679    23:20:00\n",
       "10680    11:20:00\n",
       "10681    14:10:00\n",
       "10682    19:15:00\n",
       "Name: Arrival_Time, Length: 10683, dtype: object"
      ]
     },
     "execution_count": 18,
     "metadata": {},
     "output_type": "execute_result"
    }
   ],
   "source": [
    "# Extracting only time\n",
    "pd.to_datetime(flight.Arrival_Time,dayfirst=True).dt.time"
   ]
  },
  {
   "cell_type": "markdown",
   "id": "90d05027-0933-4fd3-8b55-4e594eaf3dc6",
   "metadata": {},
   "source": [
    "### 4.8 Duration"
   ]
  },
  {
   "cell_type": "code",
   "execution_count": 19,
   "id": "6e784bef-8660-47b2-82d3-1c21cd752f00",
   "metadata": {},
   "outputs": [
    {
     "data": {
      "text/plain": [
       "0        2h 50m\n",
       "1        7h 25m\n",
       "2           19h\n",
       "3        5h 25m\n",
       "4        4h 45m\n",
       "          ...  \n",
       "10678    2h 30m\n",
       "10679    2h 35m\n",
       "10680        3h\n",
       "10681    2h 40m\n",
       "10682    8h 20m\n",
       "Name: Duration, Length: 10683, dtype: object"
      ]
     },
     "execution_count": 19,
     "metadata": {},
     "output_type": "execute_result"
    }
   ],
   "source": [
    "flight.Duration"
   ]
  },
  {
   "cell_type": "code",
   "execution_count": 20,
   "id": "26cfbad1-f611-405d-bc78-6a4c2f021651",
   "metadata": {},
   "outputs": [
    {
     "data": {
      "text/plain": [
       "array(['19h', '23h', '22h', '12h', '3h', '5h', '10h', '18h', '24h', '15h',\n",
       "       '16h', '8h', '14h', '20h', '13h', '11h', '9h', '27h', '26h', '4h',\n",
       "       '7h', '30h', '21h', '28h', '47h', '6h', '25h', '38h', '34h'],\n",
       "      dtype=object)"
      ]
     },
     "execution_count": 20,
     "metadata": {},
     "output_type": "execute_result"
    }
   ],
   "source": [
    "# Viewing values which does not contain \"m\"\n",
    "(\n",
    "    flight\n",
    "    .Duration\n",
    "    .loc[lambda ser : ~ser.str.contains(\"m\")]\n",
    "    .unique()\n",
    ")"
   ]
  },
  {
   "cell_type": "code",
   "execution_count": 21,
   "id": "ffb82e9c-9b9d-408d-b5b3-a785a828568b",
   "metadata": {},
   "outputs": [
    {
     "data": {
      "text/plain": [
       "array(['5m'], dtype=object)"
      ]
     },
     "execution_count": 21,
     "metadata": {},
     "output_type": "execute_result"
    }
   ],
   "source": [
    "# Viewing values which does not contain \"h\"\n",
    "(\n",
    "    flight\n",
    "    .Duration\n",
    "    .loc[lambda ser : ~ser.str.contains(\"h\")]\n",
    "    .unique()\n",
    ")"
   ]
  },
  {
   "cell_type": "code",
   "execution_count": 22,
   "id": "4268aca9-5cd6-4193-9f7f-ceb0090c6cc2",
   "metadata": {},
   "outputs": [
    {
     "data": {
      "text/html": [
       "<div>\n",
       "<style scoped>\n",
       "    .dataframe tbody tr th:only-of-type {\n",
       "        vertical-align: middle;\n",
       "    }\n",
       "\n",
       "    .dataframe tbody tr th {\n",
       "        vertical-align: top;\n",
       "    }\n",
       "\n",
       "    .dataframe thead th {\n",
       "        text-align: right;\n",
       "    }\n",
       "</style>\n",
       "<table border=\"1\" class=\"dataframe\">\n",
       "  <thead>\n",
       "    <tr style=\"text-align: right;\">\n",
       "      <th></th>\n",
       "      <th>Airline</th>\n",
       "      <th>Date_of_Journey</th>\n",
       "      <th>Source</th>\n",
       "      <th>Destination</th>\n",
       "      <th>Route</th>\n",
       "      <th>Dep_Time</th>\n",
       "      <th>Arrival_Time</th>\n",
       "      <th>Duration</th>\n",
       "      <th>Total_Stops</th>\n",
       "      <th>Additional_Info</th>\n",
       "      <th>Price</th>\n",
       "    </tr>\n",
       "  </thead>\n",
       "  <tbody>\n",
       "    <tr>\n",
       "      <th>6474</th>\n",
       "      <td>Air India</td>\n",
       "      <td>6/03/2019</td>\n",
       "      <td>Mumbai</td>\n",
       "      <td>Hyderabad</td>\n",
       "      <td>BOM → GOI → PNQ → HYD</td>\n",
       "      <td>16:50</td>\n",
       "      <td>16:55</td>\n",
       "      <td>5m</td>\n",
       "      <td>2 stops</td>\n",
       "      <td>No info</td>\n",
       "      <td>17327</td>\n",
       "    </tr>\n",
       "  </tbody>\n",
       "</table>\n",
       "</div>"
      ],
      "text/plain": [
       "        Airline Date_of_Journey  Source Destination                  Route  \\\n",
       "6474  Air India       6/03/2019  Mumbai   Hyderabad  BOM → GOI → PNQ → HYD   \n",
       "\n",
       "     Dep_Time Arrival_Time Duration Total_Stops Additional_Info  Price  \n",
       "6474    16:50        16:55       5m     2 stops         No info  17327  "
      ]
     },
     "execution_count": 22,
     "metadata": {},
     "output_type": "execute_result"
    }
   ],
   "source": [
    "flight[flight.Duration == '5m']"
   ]
  },
  {
   "cell_type": "markdown",
   "id": "42104b4c-7b61-453b-a2bd-109c5efdebd1",
   "metadata": {},
   "source": [
    "- This is a wrong entry as duration of a flight travel can not be 5 minutes and we should delete it "
   ]
  },
  {
   "cell_type": "code",
   "execution_count": 23,
   "id": "d9966e7b-a812-4075-ae68-de0ffdb5af3a",
   "metadata": {},
   "outputs": [
    {
     "data": {
      "text/plain": [
       "0         170\n",
       "1         445\n",
       "2        1140\n",
       "3         325\n",
       "4         285\n",
       "         ... \n",
       "10678     150\n",
       "10679     155\n",
       "10680     180\n",
       "10681     160\n",
       "10682     500\n",
       "Length: 10682, dtype: int64"
      ]
     },
     "execution_count": 23,
     "metadata": {},
     "output_type": "execute_result"
    }
   ],
   "source": [
    "# Converting the values of 'Duration\" column into minutes\n",
    "(\n",
    "    flight\n",
    "    .Duration\n",
    "    .drop(index = 6474)\n",
    "    .str.split(\" \",expand=True)\n",
    "    .set_axis(['Hour','Minute'],axis=1)\n",
    "    .assign(\n",
    "        Hour = lambda df_ : (\n",
    "            df_\n",
    "            .Hour\n",
    "            .str.replace(\"h\",\"\")\n",
    "            .astype(int)\n",
    "            .mul(60)\n",
    "        ),\n",
    "        Minute = lambda df_ : (\n",
    "             df_\n",
    "            .Minute\n",
    "            .str.replace(\"m\",\"\")\n",
    "            .fillna(0)\n",
    "            .astype(int)\n",
    "        )\n",
    "    )\n",
    "    .sum(axis=1)\n",
    ")"
   ]
  },
  {
   "cell_type": "code",
   "execution_count": 24,
   "id": "8de7f4b3-ba2a-4216-bee1-5f7422d65a4b",
   "metadata": {},
   "outputs": [],
   "source": [
    "# Function to carry out the previous task easily during cleaning operation\n",
    "def transform_duration(series):\n",
    "    return(\n",
    "    series\n",
    "        .str.split(\" \",expand=True)\n",
    "        .set_axis(['Hour','Minute'],axis=1)\n",
    "        .assign(\n",
    "            Hour = lambda df_ : (\n",
    "                df_\n",
    "                .Hour\n",
    "                .str.replace(\"h\",\"\")\n",
    "                .astype(int)\n",
    "                .mul(60)\n",
    "            ),\n",
    "            Minute = lambda df_ : (\n",
    "                 df_\n",
    "                .Minute\n",
    "                .str.replace(\"m\",\"\")\n",
    "                .fillna(0)\n",
    "                .astype(int)\n",
    "            )\n",
    "        )\n",
    "        .sum(axis=1)\n",
    "    )"
   ]
  },
  {
   "cell_type": "markdown",
   "id": "fc91db5d-bad3-447d-bb45-f7f416cb8b6c",
   "metadata": {},
   "source": [
    "### 4.9 Total_Stops"
   ]
  },
  {
   "cell_type": "code",
   "execution_count": 25,
   "id": "efc7cf46-e74a-4616-8962-4349ecdda859",
   "metadata": {},
   "outputs": [
    {
     "data": {
      "text/plain": [
       "array(['non-stop', '2 stops', '1 stop', '3 stops', nan, '4 stops'],\n",
       "      dtype=object)"
      ]
     },
     "execution_count": 25,
     "metadata": {},
     "output_type": "execute_result"
    }
   ],
   "source": [
    "flight.Total_Stops.unique()"
   ]
  },
  {
   "cell_type": "code",
   "execution_count": 26,
   "id": "7e3faced-bbab-49d3-850a-c087a673bfd6",
   "metadata": {},
   "outputs": [
    {
     "data": {
      "text/plain": [
       "0        0\n",
       "1        2\n",
       "2        2\n",
       "3        1\n",
       "4        1\n",
       "        ..\n",
       "10678    0\n",
       "10679    0\n",
       "10680    0\n",
       "10681    0\n",
       "10682    2\n",
       "Name: Total_Stops, Length: 10683, dtype: object"
      ]
     },
     "execution_count": 26,
     "metadata": {},
     "output_type": "execute_result"
    }
   ],
   "source": [
    "# Cleaning of the \"Total Stops\" column\n",
    "(\n",
    "    flight\n",
    "    .Total_Stops\n",
    "    .replace('non-stop',0)\n",
    "    .str.replace(' stops','')\n",
    "    .str.replace(' stop','')\n",
    "    .fillna(0)\n",
    ")"
   ]
  },
  {
   "cell_type": "markdown",
   "id": "156ab389-3109-47b6-998a-36743b94a151",
   "metadata": {},
   "source": [
    "### 4.10 Additional_Info"
   ]
  },
  {
   "cell_type": "code",
   "execution_count": 27,
   "id": "c31c3ded-3207-43b2-80b7-a51ef09cfdac",
   "metadata": {},
   "outputs": [
    {
     "data": {
      "text/plain": [
       "array(['No info', 'In-flight meal not included',\n",
       "       'No check-in baggage included', '1 Short layover', 'No Info',\n",
       "       '1 Long layover', 'Change airports', 'Business class',\n",
       "       'Red-eye flight', '2 Long layover'], dtype=object)"
      ]
     },
     "execution_count": 27,
     "metadata": {},
     "output_type": "execute_result"
    }
   ],
   "source": [
    "flight.Additional_Info.unique()"
   ]
  },
  {
   "cell_type": "code",
   "execution_count": 28,
   "id": "90b3f98e-067b-4d90-b197-6ee2eecafc66",
   "metadata": {},
   "outputs": [
    {
     "data": {
      "text/plain": [
       "array(['No Info', 'In-flight meal not included',\n",
       "       'No check-in baggage included', '1 Short layover',\n",
       "       '1 Long layover', 'Change airports', 'Business class',\n",
       "       'Red-eye flight', '2 Long layover'], dtype=object)"
      ]
     },
     "execution_count": 28,
     "metadata": {},
     "output_type": "execute_result"
    }
   ],
   "source": [
    "# Cleaning of the \"Additional_Info\" column\n",
    "(\n",
    "    flight\n",
    "    .Additional_Info\n",
    "    .replace('No info','No Info')\n",
    "    .unique()\n",
    ")"
   ]
  },
  {
   "cell_type": "markdown",
   "id": "395fe612-3ae1-4bed-8d2b-8812462fcf7a",
   "metadata": {},
   "source": [
    "## 5. Cleaning Operations"
   ]
  },
  {
   "cell_type": "code",
   "execution_count": 29,
   "id": "37b89f1c-763b-46b7-800f-8ac1114b3521",
   "metadata": {},
   "outputs": [],
   "source": [
    "# Function to carry out the whole cleaning task\n",
    "def clean(df):\n",
    "    return(\n",
    "        df\n",
    "        .drop(index = 6474)\n",
    "        .drop_duplicates()\n",
    "        .assign(**{\n",
    "            col : df[col].str.strip() for col in df.select_dtypes(include = \"O\").columns})\n",
    "        .rename(columns = str.lower)\n",
    "        .assign(\n",
    "            airline = lambda df1 : (\n",
    "                df1.airline\n",
    "                .replace(\"Vistara Premium economy\",\"Vistara\")\n",
    "                .replace(\"Multiple carriers Premium economy\",\"Multiple carriers\")\n",
    "                .replace(\"Jet Airways Business\",\"Jet Airways\")\n",
    "                .str.title()\n",
    "            ),\n",
    "            date_of_journey = lambda df1 : pd.to_datetime(df1.date_of_journey,dayfirst = True),\n",
    "            dep_time = lambda df1 : pd.to_datetime(df1.dep_time,dayfirst=True).dt.time,\n",
    "            arrival_time = lambda df1 : pd.to_datetime(df1.arrival_time,dayfirst=True).dt.time,\n",
    "            duration = lambda df1 : df1.duration.pipe(transform_duration),\n",
    "            total_stops = lambda df1 : (\n",
    "                df1\n",
    "                .total_stops\n",
    "                .replace('non-stop',0)\n",
    "                .str.replace(' stops','')\n",
    "                .str.replace(' stop','')\n",
    "                .fillna(0)\n",
    "            ),\n",
    "            additional_info = lambda df1 : df1.additional_info.replace('No info','No Info')\n",
    "        )\n",
    "        .drop(columns = 'route')\n",
    "    )"
   ]
  },
  {
   "cell_type": "code",
   "execution_count": 30,
   "id": "810f068d-4ce4-4805-b0a9-781e26347766",
   "metadata": {},
   "outputs": [
    {
     "data": {
      "text/html": [
       "<div>\n",
       "<style scoped>\n",
       "    .dataframe tbody tr th:only-of-type {\n",
       "        vertical-align: middle;\n",
       "    }\n",
       "\n",
       "    .dataframe tbody tr th {\n",
       "        vertical-align: top;\n",
       "    }\n",
       "\n",
       "    .dataframe thead th {\n",
       "        text-align: right;\n",
       "    }\n",
       "</style>\n",
       "<table border=\"1\" class=\"dataframe\">\n",
       "  <thead>\n",
       "    <tr style=\"text-align: right;\">\n",
       "      <th></th>\n",
       "      <th>airline</th>\n",
       "      <th>date_of_journey</th>\n",
       "      <th>source</th>\n",
       "      <th>destination</th>\n",
       "      <th>dep_time</th>\n",
       "      <th>arrival_time</th>\n",
       "      <th>duration</th>\n",
       "      <th>total_stops</th>\n",
       "      <th>additional_info</th>\n",
       "      <th>price</th>\n",
       "    </tr>\n",
       "  </thead>\n",
       "  <tbody>\n",
       "    <tr>\n",
       "      <th>0</th>\n",
       "      <td>Indigo</td>\n",
       "      <td>2019-03-24</td>\n",
       "      <td>Banglore</td>\n",
       "      <td>New Delhi</td>\n",
       "      <td>22:20:00</td>\n",
       "      <td>01:10:00</td>\n",
       "      <td>170</td>\n",
       "      <td>0</td>\n",
       "      <td>No Info</td>\n",
       "      <td>3897</td>\n",
       "    </tr>\n",
       "    <tr>\n",
       "      <th>1</th>\n",
       "      <td>Air India</td>\n",
       "      <td>2019-05-01</td>\n",
       "      <td>Kolkata</td>\n",
       "      <td>Banglore</td>\n",
       "      <td>05:50:00</td>\n",
       "      <td>13:15:00</td>\n",
       "      <td>445</td>\n",
       "      <td>2</td>\n",
       "      <td>No Info</td>\n",
       "      <td>7662</td>\n",
       "    </tr>\n",
       "    <tr>\n",
       "      <th>2</th>\n",
       "      <td>Jet Airways</td>\n",
       "      <td>2019-06-09</td>\n",
       "      <td>Delhi</td>\n",
       "      <td>Cochin</td>\n",
       "      <td>09:25:00</td>\n",
       "      <td>04:25:00</td>\n",
       "      <td>1140</td>\n",
       "      <td>2</td>\n",
       "      <td>No Info</td>\n",
       "      <td>13882</td>\n",
       "    </tr>\n",
       "    <tr>\n",
       "      <th>3</th>\n",
       "      <td>Indigo</td>\n",
       "      <td>2019-05-12</td>\n",
       "      <td>Kolkata</td>\n",
       "      <td>Banglore</td>\n",
       "      <td>18:05:00</td>\n",
       "      <td>23:30:00</td>\n",
       "      <td>325</td>\n",
       "      <td>1</td>\n",
       "      <td>No Info</td>\n",
       "      <td>6218</td>\n",
       "    </tr>\n",
       "    <tr>\n",
       "      <th>4</th>\n",
       "      <td>Indigo</td>\n",
       "      <td>2019-03-01</td>\n",
       "      <td>Banglore</td>\n",
       "      <td>New Delhi</td>\n",
       "      <td>16:50:00</td>\n",
       "      <td>21:35:00</td>\n",
       "      <td>285</td>\n",
       "      <td>1</td>\n",
       "      <td>No Info</td>\n",
       "      <td>13302</td>\n",
       "    </tr>\n",
       "    <tr>\n",
       "      <th>...</th>\n",
       "      <td>...</td>\n",
       "      <td>...</td>\n",
       "      <td>...</td>\n",
       "      <td>...</td>\n",
       "      <td>...</td>\n",
       "      <td>...</td>\n",
       "      <td>...</td>\n",
       "      <td>...</td>\n",
       "      <td>...</td>\n",
       "      <td>...</td>\n",
       "    </tr>\n",
       "    <tr>\n",
       "      <th>10678</th>\n",
       "      <td>Air Asia</td>\n",
       "      <td>2019-04-09</td>\n",
       "      <td>Kolkata</td>\n",
       "      <td>Banglore</td>\n",
       "      <td>19:55:00</td>\n",
       "      <td>22:25:00</td>\n",
       "      <td>150</td>\n",
       "      <td>0</td>\n",
       "      <td>No Info</td>\n",
       "      <td>4107</td>\n",
       "    </tr>\n",
       "    <tr>\n",
       "      <th>10679</th>\n",
       "      <td>Air India</td>\n",
       "      <td>2019-04-27</td>\n",
       "      <td>Kolkata</td>\n",
       "      <td>Banglore</td>\n",
       "      <td>20:45:00</td>\n",
       "      <td>23:20:00</td>\n",
       "      <td>155</td>\n",
       "      <td>0</td>\n",
       "      <td>No Info</td>\n",
       "      <td>4145</td>\n",
       "    </tr>\n",
       "    <tr>\n",
       "      <th>10680</th>\n",
       "      <td>Jet Airways</td>\n",
       "      <td>2019-04-27</td>\n",
       "      <td>Banglore</td>\n",
       "      <td>Delhi</td>\n",
       "      <td>08:20:00</td>\n",
       "      <td>11:20:00</td>\n",
       "      <td>180</td>\n",
       "      <td>0</td>\n",
       "      <td>No Info</td>\n",
       "      <td>7229</td>\n",
       "    </tr>\n",
       "    <tr>\n",
       "      <th>10681</th>\n",
       "      <td>Vistara</td>\n",
       "      <td>2019-03-01</td>\n",
       "      <td>Banglore</td>\n",
       "      <td>New Delhi</td>\n",
       "      <td>11:30:00</td>\n",
       "      <td>14:10:00</td>\n",
       "      <td>160</td>\n",
       "      <td>0</td>\n",
       "      <td>No Info</td>\n",
       "      <td>12648</td>\n",
       "    </tr>\n",
       "    <tr>\n",
       "      <th>10682</th>\n",
       "      <td>Air India</td>\n",
       "      <td>2019-05-09</td>\n",
       "      <td>Delhi</td>\n",
       "      <td>Cochin</td>\n",
       "      <td>10:55:00</td>\n",
       "      <td>19:15:00</td>\n",
       "      <td>500</td>\n",
       "      <td>2</td>\n",
       "      <td>No Info</td>\n",
       "      <td>11753</td>\n",
       "    </tr>\n",
       "  </tbody>\n",
       "</table>\n",
       "<p>10462 rows × 10 columns</p>\n",
       "</div>"
      ],
      "text/plain": [
       "           airline date_of_journey    source destination  dep_time  \\\n",
       "0           Indigo      2019-03-24  Banglore   New Delhi  22:20:00   \n",
       "1        Air India      2019-05-01   Kolkata    Banglore  05:50:00   \n",
       "2      Jet Airways      2019-06-09     Delhi      Cochin  09:25:00   \n",
       "3           Indigo      2019-05-12   Kolkata    Banglore  18:05:00   \n",
       "4           Indigo      2019-03-01  Banglore   New Delhi  16:50:00   \n",
       "...            ...             ...       ...         ...       ...   \n",
       "10678     Air Asia      2019-04-09   Kolkata    Banglore  19:55:00   \n",
       "10679    Air India      2019-04-27   Kolkata    Banglore  20:45:00   \n",
       "10680  Jet Airways      2019-04-27  Banglore       Delhi  08:20:00   \n",
       "10681      Vistara      2019-03-01  Banglore   New Delhi  11:30:00   \n",
       "10682    Air India      2019-05-09     Delhi      Cochin  10:55:00   \n",
       "\n",
       "      arrival_time  duration total_stops additional_info  price  \n",
       "0         01:10:00       170           0         No Info   3897  \n",
       "1         13:15:00       445           2         No Info   7662  \n",
       "2         04:25:00      1140           2         No Info  13882  \n",
       "3         23:30:00       325           1         No Info   6218  \n",
       "4         21:35:00       285           1         No Info  13302  \n",
       "...            ...       ...         ...             ...    ...  \n",
       "10678     22:25:00       150           0         No Info   4107  \n",
       "10679     23:20:00       155           0         No Info   4145  \n",
       "10680     11:20:00       180           0         No Info   7229  \n",
       "10681     14:10:00       160           0         No Info  12648  \n",
       "10682     19:15:00       500           2         No Info  11753  \n",
       "\n",
       "[10462 rows x 10 columns]"
      ]
     },
     "execution_count": 30,
     "metadata": {},
     "output_type": "execute_result"
    }
   ],
   "source": [
    "clean_flight = clean(flight)\n",
    "clean_flight"
   ]
  },
  {
   "cell_type": "markdown",
   "id": "a9f50597-550e-4ec5-b6a6-497fb547d873",
   "metadata": {},
   "source": [
    "## 6. Split the Data"
   ]
  },
  {
   "cell_type": "markdown",
   "id": "4499519c-9631-4067-a3c8-465cfc7ebb6e",
   "metadata": {},
   "source": [
    "- We will split the data into train and test data.\n",
    "- Train data will be for training and hyperparameter tuning and Test data will be for testing"
   ]
  },
  {
   "cell_type": "code",
   "execution_count": 31,
   "id": "87f3f60e-e03e-445c-8407-e141f2a2026d",
   "metadata": {},
   "outputs": [],
   "source": [
    "X = clean_flight.drop(['price'],axis=1)\n",
    "y = clean_flight['price']"
   ]
  },
  {
   "cell_type": "code",
   "execution_count": 32,
   "id": "3470b9b3-ca65-4dcd-9b46-61529f8a4e79",
   "metadata": {},
   "outputs": [],
   "source": [
    "X_train,X_test,y_train,y_test = train_test_split(X,y,test_size=0.3,random_state=42)"
   ]
  },
  {
   "cell_type": "code",
   "execution_count": 33,
   "id": "4651c764-8137-4195-93ce-d5e24c3178d5",
   "metadata": {},
   "outputs": [
    {
     "name": "stdout",
     "output_type": "stream",
     "text": [
      "(7323, 9)\n",
      "(3139, 9)\n"
     ]
    }
   ],
   "source": [
    "print(X_train.shape)\n",
    "print(X_test.shape)"
   ]
  },
  {
   "cell_type": "markdown",
   "id": "7296541a-1320-4f0a-a6c9-4a81d3b30bf6",
   "metadata": {},
   "source": [
    "## 7. Exporting the Data"
   ]
  },
  {
   "cell_type": "code",
   "execution_count": 34,
   "id": "b7201de3-2d37-4e85-a632-72e965495a1a",
   "metadata": {},
   "outputs": [],
   "source": [
    "# Function for exporting\n",
    "def export(x,y,name):\n",
    "    filename = f\"{name}.csv\"\n",
    "    filepath = os.path.join(r\"D:\\FLIGHT_PRICE_PREDICTION\\DATA\",filename)\n",
    "    x.join(y).to_csv(filepath,index=False)\n",
    "    return pd.read_csv(filepath).head()"
   ]
  },
  {
   "cell_type": "code",
   "execution_count": 35,
   "id": "91b4e24c-68be-45be-b573-dc424ee6347f",
   "metadata": {},
   "outputs": [
    {
     "data": {
      "text/html": [
       "<div>\n",
       "<style scoped>\n",
       "    .dataframe tbody tr th:only-of-type {\n",
       "        vertical-align: middle;\n",
       "    }\n",
       "\n",
       "    .dataframe tbody tr th {\n",
       "        vertical-align: top;\n",
       "    }\n",
       "\n",
       "    .dataframe thead th {\n",
       "        text-align: right;\n",
       "    }\n",
       "</style>\n",
       "<table border=\"1\" class=\"dataframe\">\n",
       "  <thead>\n",
       "    <tr style=\"text-align: right;\">\n",
       "      <th></th>\n",
       "      <th>airline</th>\n",
       "      <th>date_of_journey</th>\n",
       "      <th>source</th>\n",
       "      <th>destination</th>\n",
       "      <th>dep_time</th>\n",
       "      <th>arrival_time</th>\n",
       "      <th>duration</th>\n",
       "      <th>total_stops</th>\n",
       "      <th>additional_info</th>\n",
       "      <th>price</th>\n",
       "    </tr>\n",
       "  </thead>\n",
       "  <tbody>\n",
       "    <tr>\n",
       "      <th>0</th>\n",
       "      <td>Air India</td>\n",
       "      <td>2019-04-01</td>\n",
       "      <td>Kolkata</td>\n",
       "      <td>Banglore</td>\n",
       "      <td>16:45:00</td>\n",
       "      <td>23:15:00</td>\n",
       "      <td>1830</td>\n",
       "      <td>3</td>\n",
       "      <td>No Info</td>\n",
       "      <td>8607</td>\n",
       "    </tr>\n",
       "    <tr>\n",
       "      <th>1</th>\n",
       "      <td>Multiple Carriers</td>\n",
       "      <td>2019-06-01</td>\n",
       "      <td>Delhi</td>\n",
       "      <td>Cochin</td>\n",
       "      <td>13:00:00</td>\n",
       "      <td>21:00:00</td>\n",
       "      <td>480</td>\n",
       "      <td>1</td>\n",
       "      <td>No Info</td>\n",
       "      <td>13587</td>\n",
       "    </tr>\n",
       "    <tr>\n",
       "      <th>2</th>\n",
       "      <td>Jet Airways</td>\n",
       "      <td>2019-05-21</td>\n",
       "      <td>Kolkata</td>\n",
       "      <td>Banglore</td>\n",
       "      <td>14:05:00</td>\n",
       "      <td>23:35:00</td>\n",
       "      <td>570</td>\n",
       "      <td>1</td>\n",
       "      <td>In-flight meal not included</td>\n",
       "      <td>10844</td>\n",
       "    </tr>\n",
       "    <tr>\n",
       "      <th>3</th>\n",
       "      <td>Jet Airways</td>\n",
       "      <td>2019-03-09</td>\n",
       "      <td>Delhi</td>\n",
       "      <td>Cochin</td>\n",
       "      <td>05:25:00</td>\n",
       "      <td>04:25:00</td>\n",
       "      <td>1380</td>\n",
       "      <td>2</td>\n",
       "      <td>No Info</td>\n",
       "      <td>16914</td>\n",
       "    </tr>\n",
       "    <tr>\n",
       "      <th>4</th>\n",
       "      <td>Jet Airways</td>\n",
       "      <td>2019-05-18</td>\n",
       "      <td>Kolkata</td>\n",
       "      <td>Banglore</td>\n",
       "      <td>16:30:00</td>\n",
       "      <td>08:15:00</td>\n",
       "      <td>945</td>\n",
       "      <td>1</td>\n",
       "      <td>In-flight meal not included</td>\n",
       "      <td>8586</td>\n",
       "    </tr>\n",
       "  </tbody>\n",
       "</table>\n",
       "</div>"
      ],
      "text/plain": [
       "             airline date_of_journey   source destination  dep_time  \\\n",
       "0          Air India      2019-04-01  Kolkata    Banglore  16:45:00   \n",
       "1  Multiple Carriers      2019-06-01    Delhi      Cochin  13:00:00   \n",
       "2        Jet Airways      2019-05-21  Kolkata    Banglore  14:05:00   \n",
       "3        Jet Airways      2019-03-09    Delhi      Cochin  05:25:00   \n",
       "4        Jet Airways      2019-05-18  Kolkata    Banglore  16:30:00   \n",
       "\n",
       "  arrival_time  duration  total_stops              additional_info  price  \n",
       "0     23:15:00      1830            3                      No Info   8607  \n",
       "1     21:00:00       480            1                      No Info  13587  \n",
       "2     23:35:00       570            1  In-flight meal not included  10844  \n",
       "3     04:25:00      1380            2                      No Info  16914  \n",
       "4     08:15:00       945            1  In-flight meal not included   8586  "
      ]
     },
     "execution_count": 35,
     "metadata": {},
     "output_type": "execute_result"
    }
   ],
   "source": [
    "export(X_train,y_train,\"train\")"
   ]
  },
  {
   "cell_type": "code",
   "execution_count": 36,
   "id": "ea477d16-db9d-45c2-ac8a-27813e5ab1de",
   "metadata": {},
   "outputs": [
    {
     "data": {
      "text/html": [
       "<div>\n",
       "<style scoped>\n",
       "    .dataframe tbody tr th:only-of-type {\n",
       "        vertical-align: middle;\n",
       "    }\n",
       "\n",
       "    .dataframe tbody tr th {\n",
       "        vertical-align: top;\n",
       "    }\n",
       "\n",
       "    .dataframe thead th {\n",
       "        text-align: right;\n",
       "    }\n",
       "</style>\n",
       "<table border=\"1\" class=\"dataframe\">\n",
       "  <thead>\n",
       "    <tr style=\"text-align: right;\">\n",
       "      <th></th>\n",
       "      <th>airline</th>\n",
       "      <th>date_of_journey</th>\n",
       "      <th>source</th>\n",
       "      <th>destination</th>\n",
       "      <th>dep_time</th>\n",
       "      <th>arrival_time</th>\n",
       "      <th>duration</th>\n",
       "      <th>total_stops</th>\n",
       "      <th>additional_info</th>\n",
       "      <th>price</th>\n",
       "    </tr>\n",
       "  </thead>\n",
       "  <tbody>\n",
       "    <tr>\n",
       "      <th>0</th>\n",
       "      <td>Jet Airways</td>\n",
       "      <td>2019-03-06</td>\n",
       "      <td>Banglore</td>\n",
       "      <td>New Delhi</td>\n",
       "      <td>08:00:00</td>\n",
       "      <td>08:15:00</td>\n",
       "      <td>1455</td>\n",
       "      <td>1</td>\n",
       "      <td>No Info</td>\n",
       "      <td>17996</td>\n",
       "    </tr>\n",
       "    <tr>\n",
       "      <th>1</th>\n",
       "      <td>Spicejet</td>\n",
       "      <td>2019-06-06</td>\n",
       "      <td>Kolkata</td>\n",
       "      <td>Banglore</td>\n",
       "      <td>22:20:00</td>\n",
       "      <td>00:40:00</td>\n",
       "      <td>140</td>\n",
       "      <td>0</td>\n",
       "      <td>No Info</td>\n",
       "      <td>3873</td>\n",
       "    </tr>\n",
       "    <tr>\n",
       "      <th>2</th>\n",
       "      <td>Indigo</td>\n",
       "      <td>2019-03-18</td>\n",
       "      <td>Kolkata</td>\n",
       "      <td>Banglore</td>\n",
       "      <td>05:30:00</td>\n",
       "      <td>08:20:00</td>\n",
       "      <td>170</td>\n",
       "      <td>0</td>\n",
       "      <td>No Info</td>\n",
       "      <td>4462</td>\n",
       "    </tr>\n",
       "    <tr>\n",
       "      <th>3</th>\n",
       "      <td>Indigo</td>\n",
       "      <td>2019-06-27</td>\n",
       "      <td>Chennai</td>\n",
       "      <td>Kolkata</td>\n",
       "      <td>19:35:00</td>\n",
       "      <td>21:55:00</td>\n",
       "      <td>140</td>\n",
       "      <td>0</td>\n",
       "      <td>No Info</td>\n",
       "      <td>3597</td>\n",
       "    </tr>\n",
       "    <tr>\n",
       "      <th>4</th>\n",
       "      <td>Indigo</td>\n",
       "      <td>2019-05-06</td>\n",
       "      <td>Kolkata</td>\n",
       "      <td>Banglore</td>\n",
       "      <td>15:15:00</td>\n",
       "      <td>17:45:00</td>\n",
       "      <td>150</td>\n",
       "      <td>0</td>\n",
       "      <td>No Info</td>\n",
       "      <td>4804</td>\n",
       "    </tr>\n",
       "  </tbody>\n",
       "</table>\n",
       "</div>"
      ],
      "text/plain": [
       "       airline date_of_journey    source destination  dep_time arrival_time  \\\n",
       "0  Jet Airways      2019-03-06  Banglore   New Delhi  08:00:00     08:15:00   \n",
       "1     Spicejet      2019-06-06   Kolkata    Banglore  22:20:00     00:40:00   \n",
       "2       Indigo      2019-03-18   Kolkata    Banglore  05:30:00     08:20:00   \n",
       "3       Indigo      2019-06-27   Chennai     Kolkata  19:35:00     21:55:00   \n",
       "4       Indigo      2019-05-06   Kolkata    Banglore  15:15:00     17:45:00   \n",
       "\n",
       "   duration  total_stops additional_info  price  \n",
       "0      1455            1         No Info  17996  \n",
       "1       140            0         No Info   3873  \n",
       "2       170            0         No Info   4462  \n",
       "3       140            0         No Info   3597  \n",
       "4       150            0         No Info   4804  "
      ]
     },
     "execution_count": 36,
     "metadata": {},
     "output_type": "execute_result"
    }
   ],
   "source": [
    "export(X_test,y_test,\"test\")"
   ]
  }
 ],
 "metadata": {
  "kernelspec": {
   "display_name": "Python 3 (ipykernel)",
   "language": "python",
   "name": "python3"
  },
  "language_info": {
   "codemirror_mode": {
    "name": "ipython",
    "version": 3
   },
   "file_extension": ".py",
   "mimetype": "text/x-python",
   "name": "python",
   "nbconvert_exporter": "python",
   "pygments_lexer": "ipython3",
   "version": "3.12.4"
  }
 },
 "nbformat": 4,
 "nbformat_minor": 5
}
